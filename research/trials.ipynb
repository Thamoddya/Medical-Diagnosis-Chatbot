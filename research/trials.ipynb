{
 "cells": [
  {
   "cell_type": "code",
   "execution_count": 20,
   "id": "a24e2195",
   "metadata": {},
   "outputs": [
    {
     "data": {
      "text/plain": [
       "'d:\\\\MY PROJECTS\\\\LLM\\\\Medical-Diagnosis-Chatbot'"
      ]
     },
     "execution_count": 20,
     "metadata": {},
     "output_type": "execute_result"
    }
   ],
   "source": [
    "import os\n",
    "os.chdir(\"../\")\n",
    "%pwd"
   ]
  },
  {
   "cell_type": "code",
   "execution_count": 128,
   "id": "513a5655",
   "metadata": {},
   "outputs": [],
   "source": [
    "from langchain.document_loaders import PyPDFLoader,DirectoryLoader\n",
    "from langchain.text_splitter import RecursiveCharacterTextSplitter"
   ]
  },
  {
   "cell_type": "code",
   "execution_count": 129,
   "id": "1c4307d8",
   "metadata": {},
   "outputs": [],
   "source": [
    "#Extract data from the PDF File\n",
    "\n",
    "def load_pdf_file(data):\n",
    "    loader = DirectoryLoader(data,\n",
    "                             glob=\"*.pdf\",\n",
    "                             loader_cls=PyPDFLoader\n",
    "                             )\n",
    "    \n",
    "    documents = loader.load()\n",
    "    \n",
    "    return documents"
   ]
  },
  {
   "cell_type": "code",
   "execution_count": 130,
   "id": "dc8c1920",
   "metadata": {},
   "outputs": [],
   "source": [
    "extracted_data = load_pdf_file(data='Data/')"
   ]
  },
  {
   "cell_type": "code",
   "execution_count": 133,
   "id": "04f0d4da",
   "metadata": {},
   "outputs": [
    {
     "name": "stdout",
     "output_type": "stream",
     "text": [
      "Number of documents extracted:  6356\n"
     ]
    }
   ],
   "source": [
    "#extracted_data\n",
    "print(\"Number of documents extracted: \", len(extracted_data))"
   ]
  },
  {
   "cell_type": "code",
   "execution_count": 134,
   "id": "abce37e3",
   "metadata": {},
   "outputs": [],
   "source": [
    "#Split the data into Text Chunks\n",
    "def text_split(extracted_data):\n",
    "    text_splitter = RecursiveCharacterTextSplitter(\n",
    "        chunk_size=500,\n",
    "        chunk_overlap=20,\n",
    "    )\n",
    "    text_chunks = text_splitter.split_documents(extracted_data)\n",
    "    return text_chunks"
   ]
  },
  {
   "cell_type": "code",
   "execution_count": 135,
   "id": "eaf737b8",
   "metadata": {},
   "outputs": [
    {
     "name": "stdout",
     "output_type": "stream",
     "text": [
      "Length of text chunks:  55056\n"
     ]
    }
   ],
   "source": [
    "text_chunks = text_split(extracted_data)\n",
    "print(\"Length of text chunks: \", len(text_chunks))"
   ]
  },
  {
   "cell_type": "code",
   "execution_count": 136,
   "id": "b129c250",
   "metadata": {},
   "outputs": [],
   "source": [
    "#IMPORT\n",
    "from langchain_huggingface import HuggingFaceEmbeddings\n"
   ]
  },
  {
   "cell_type": "code",
   "execution_count": 137,
   "id": "61da12b9",
   "metadata": {},
   "outputs": [],
   "source": [
    "\n",
    "def download_higghing_face_embeddings():\n",
    "    embeddings = HuggingFaceEmbeddings(\n",
    "        model_name=\"sentence-transformers/all-MiniLM-L6-v2\",\n",
    "    )\n",
    "    return embeddings\n"
   ]
  },
  {
   "cell_type": "code",
   "execution_count": 138,
   "id": "89a1d668",
   "metadata": {},
   "outputs": [],
   "source": [
    "embeddings = download_higghing_face_embeddings()"
   ]
  },
  {
   "cell_type": "code",
   "execution_count": 139,
   "id": "da469ebc",
   "metadata": {},
   "outputs": [
    {
     "name": "stdout",
     "output_type": "stream",
     "text": [
      "Length 384\n"
     ]
    }
   ],
   "source": [
    "query_result = embeddings.embed_query(\"Hello world\")\n",
    "print(\"Length\", len(query_result))"
   ]
  },
  {
   "cell_type": "code",
   "execution_count": 145,
   "id": "c59ac9b4",
   "metadata": {},
   "outputs": [
    {
     "data": {
      "text/plain": [
       "True"
      ]
     },
     "execution_count": 145,
     "metadata": {},
     "output_type": "execute_result"
    }
   ],
   "source": [
    "from dotenv import load_dotenv\n",
    "import os\n",
    "load_dotenv()"
   ]
  },
  {
   "cell_type": "code",
   "execution_count": 146,
   "id": "d4adc417",
   "metadata": {},
   "outputs": [],
   "source": [
    "PINECONE_API_KEY = os.environ.get(\"PINECONE_API_KEY\")\n",
    "OPENAI_API_KEY = os.environ.get(\"OPENAI_API_KEY\")"
   ]
  },
  {
   "cell_type": "code",
   "execution_count": 142,
   "id": "52da088b",
   "metadata": {},
   "outputs": [
    {
     "name": "stdout",
     "output_type": "stream",
     "text": [
      "Index 'medical-index' already exists.\n"
     ]
    }
   ],
   "source": [
    "from pinecone.grpc import PineconeGRPC as Pinecone\n",
    "from pinecone import ServerlessSpec\n",
    "\n",
    "\n",
    "\n",
    "pc = Pinecone(api_key=PINECONE_API_KEY)\n",
    "\n",
    "index_name = \"medical-index\"\n",
    "existing_indexes = pc.list_indexes().names()\n",
    "\n",
    "if index_name not in existing_indexes:\n",
    "    pc.create_index(\n",
    "        name=index_name,\n",
    "        dimension=384,\n",
    "        metric=\"cosine\",\n",
    "        spec=ServerlessSpec(\n",
    "            cloud=\"aws\",\n",
    "            region=\"us-east-1\"\n",
    "        )\n",
    "    )\n",
    "else:\n",
    "    print(f\"Index '{index_name}' already exists.\")\n"
   ]
  },
  {
   "cell_type": "code",
   "execution_count": 143,
   "id": "34f88254",
   "metadata": {},
   "outputs": [],
   "source": [
    "import os\n",
    "os.environ[\"PINECONE_API_KEY\"] = PINECONE_API_KEY\n",
    "os.environ[\"OPENAI_API_KEY\"] = OPENAI_API_KEY"
   ]
  },
  {
   "cell_type": "code",
   "execution_count": 144,
   "id": "c9d3d983",
   "metadata": {},
   "outputs": [],
   "source": [
    "#Embed each chunk of text and store it in Pinecone\n",
    "from langchain_pinecone import PineconeVectorStore\n",
    "\n",
    "docsearch = PineconeVectorStore.from_documents(\n",
    "    documents=text_chunks,\n",
    "    embedding=embeddings,\n",
    "    index_name=index_name,\n",
    ")\n",
    "\n"
   ]
  },
  {
   "cell_type": "code",
   "execution_count": 152,
   "id": "fa3b10c7",
   "metadata": {},
   "outputs": [],
   "source": [
    "#existing index\n",
    "\n",
    "from langchain_pinecone import PineconeVectorStore\n",
    "\n",
    "# Embed each chunk and upsert the embeddings into the Pinecone index\n",
    "docsearch = PineconeVectorStore.from_existing_index(\n",
    "    index_name=index_name,\n",
    "    embedding=embeddings,\n",
    ")\n"
   ]
  },
  {
   "cell_type": "code",
   "execution_count": 153,
   "id": "e3ec5725",
   "metadata": {},
   "outputs": [
    {
     "data": {
      "text/plain": [
       "<langchain_pinecone.vectorstores.PineconeVectorStore at 0x1fa4bd38950>"
      ]
     },
     "execution_count": 153,
     "metadata": {},
     "output_type": "execute_result"
    }
   ],
   "source": [
    "docsearch"
   ]
  },
  {
   "cell_type": "code",
   "execution_count": 154,
   "id": "55141e38",
   "metadata": {},
   "outputs": [],
   "source": [
    "retriever = docsearch.as_retriever(\n",
    "    search_type=\"similarity\",\n",
    "    search_kwargs={\"k\": 3}\n",
    ")"
   ]
  },
  {
   "cell_type": "code",
   "execution_count": 155,
   "id": "7c26730d",
   "metadata": {},
   "outputs": [],
   "source": [
    "from langchain_openai import ChatOpenAI\n",
    "\n",
    "llm = ChatOpenAI(\n",
    "    model=\"google/gemini-2.5-pro-preview-03-25\",  \n",
    "    base_url=\"https://openrouter.ai/api/v1\",\n",
    "    api_key=\"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\", \n",
    "    temperature=0.4,\n",
    "    max_tokens=500\n",
    ")"
   ]
  },
  {
   "cell_type": "code",
   "execution_count": 156,
   "id": "aba40a8d",
   "metadata": {},
   "outputs": [],
   "source": [
    "from langchain.chains import create_retrieval_chain\n",
    "from langchain.chains.combine_documents import create_stuff_documents_chain\n",
    "from langchain_core.prompts import ChatPromptTemplate\n",
    "\n",
    "\n",
    "system_prompt = (\n",
    "    \"You are an assistant for question-answering tasks.\"\n",
    "    \"Use the follwing piece of retrieved context to answer the question. If you don't know the answer, say 'I don't know'.\"\n",
    "    \"Be concise and answer in a single sentence.\"\n",
    "    \"Use three sentences at most and keep the answer concise.\"\n",
    "    \"Make sure to provide relevant information based on the context.\"\n",
    "    \"\\n\\n\"\n",
    "    \"Context: {context}\"\n",
    ")\n",
    "\n",
    "prompt = ChatPromptTemplate.from_messages(\n",
    "    [\n",
    "    (\"system\", system_prompt),\n",
    "    (\"human\", \"{input}\")\n",
    "    ]\n",
    ")\n"
   ]
  },
  {
   "cell_type": "code",
   "execution_count": 157,
   "id": "5713af44",
   "metadata": {},
   "outputs": [],
   "source": [
    "question_answering_chain = create_stuff_documents_chain(llm, prompt)\n",
    "rag_chain = create_retrieval_chain(\n",
    "    retriever,\n",
    "    question_answering_chain,\n",
    ")"
   ]
  },
  {
   "cell_type": "code",
   "execution_count": 159,
   "id": "7a253c18",
   "metadata": {},
   "outputs": [
    {
     "name": "stdout",
     "output_type": "stream",
     "text": [
      "{'input': 'Best medicine for skin rashes', 'context': [Document(id='63f4062e-02f9-448d-baf1-fd519a3f185c', metadata={'creationdate': '2006-10-16T20:19:33+02:00', 'creator': 'Adobe Acrobat 6.0', 'moddate': '2006-10-16T22:03:45+02:00', 'page': 2122.0, 'page_label': '2093', 'producer': 'PDFlib+PDI 6.0.3 (SunOS)', 'source': 'Data\\\\Medical_Book_one.pdf', 'total_pages': 4505.0}, page_content='use the anti-fungal for a full two-week course in order to\\nprevent recurrence of the infection.\\nAlternative treatment\\nTopical treatments include poultices of pepper-\\nmint, oregano, or lavender. Tea tree oil, diluted with\\na carrier oil of almond oil, can be applied to the rash\\nseveral times per day. Cedarwood and jasmine oils can\\nrelieve itching when applied in the same manner.\\nGrapefruit seed extract can be taken as a strong solu-\\ntion of 15 drops in 1 oz of water.'), Document(id='d3988544-aefe-4362-b79f-5bcfd7951b51', metadata={'creationdate': '2006-10-16T20:19:33+02:00', 'creator': 'Adobe Acrobat 6.0', 'moddate': '2006-10-16T22:03:45+02:00', 'page': 157.0, 'page_label': '128', 'producer': 'PDFlib+PDI 6.0.3 (SunOS)', 'source': 'Data\\\\Medical_Book_one.pdf', 'total_pages': 4505.0}, page_content='rash when applied topically. Homeopathic treatment\\nmay include such remedies asRhus toxicodendron ,\\nApis mellifica ,o r Anacardium taken internally. A\\nqualified homeopathic practitioner should be con-\\nsulted to match the symptoms with the correct remedy.\\nCare should be taken with any agent taken internally.\\nPrognosis\\nAllergies can improve over time, although they\\noften worsen. While anaphylaxis and severe asthma\\nare life-threatening, other allergic reactions are not.'), Document(id='02fc463c-7915-4dc3-9b8b-6ee13a9c0bdc', metadata={'creationdate': '2004-12-18T17:52:16-05:00', 'creator': 'PyPDF', 'moddate': '2004-12-18T18:38:56-06:00', 'page': 423.0, 'page_label': '424', 'producer': 'PDFlib+PDI 5.0.0 (SunOS)', 'source': 'Data\\\\Medical_book.pdf', 'total_pages': 940.0}, page_content='Treatment\\nThe rash itself may be treated with topical antiprurit-\\nics (itch relievers). Preparations containing aloe, men-\\nthol, camphor, eucalyptus oil, and similar ingredients are\\navailable commercially. Even more effective, particularly\\nfor widespread itching in hot weather, are cool baths with\\ncorn starch and/or oatmeal (about 0.5 lb [224 g] of each\\nper bathtub-full).\\nDermatologists can peel off the upper layers of skin\\nusing a special ultraviolet light. This will remove the plugs')], 'answer': ''}\n"
     ]
    }
   ],
   "source": [
    "response = rag_chain.invoke({\n",
    "    \"input\": \"Best medicine for skin rashes\"\n",
    "})\n",
    "\n",
    "print(response)\n",
    "\n"
   ]
  }
 ],
 "metadata": {
  "kernelspec": {
   "display_name": "medibot",
   "language": "python",
   "name": "medibot"
  },
  "language_info": {
   "codemirror_mode": {
    "name": "ipython",
    "version": 3
   },
   "file_extension": ".py",
   "mimetype": "text/x-python",
   "name": "python",
   "nbconvert_exporter": "python",
   "pygments_lexer": "ipython3",
   "version": "3.12.7"
  }
 },
 "nbformat": 4,
 "nbformat_minor": 5
}
